{
 "cells": [
  {
   "cell_type": "code",
   "execution_count": null,
   "id": "56ce9642-bbb4-48b5-85ff-09e46b93cfdd",
   "metadata": {},
   "outputs": [],
   "source": [
    "# Right-most column, Table 2:\n",
    "uv run main.py --test"
   ]
  },
  {
   "cell_type": "code",
   "execution_count": null,
   "id": "73b20223-63d7-4db8-8975-20b26c8ea1b3",
   "metadata": {},
   "outputs": [],
   "source": [
    "# Need system with 2 GPUs for ensemble test:\n",
    "# Table 3:\n",
    "uv run main.py --ensemble_test --gpu_id 0,1"
   ]
  },
  {
   "cell_type": "markdown",
   "id": "3db84848-f52f-40c4-99d5-42dd81a8d9c6",
   "metadata": {},
   "source": [
    "# Train:"
   ]
  },
  {
   "cell_type": "code",
   "execution_count": null,
   "id": "5d474f43-c46c-4b1b-81cb-6308f8b28c6c",
   "metadata": {},
   "outputs": [],
   "source": [
    "# On a 4 A100 system:\n",
    "\n",
    "uv run main.py --seed 42 --gpu_id 0\n",
    "uv run main.py --seed 1 --gpu_id 1\n",
    "uv run main.py --seed 12 --gpu_id 2\n",
    "uv run main.py --seed 123 --gpu_id 3\n",
    "\n",
    "uv run main.py --seed 1234 --gpu_id 0\n",
    "\n",
    "# ^ reproduce\n",
    "\n",
    "uv run main.py --seed 2 --gpu_id 1\n",
    "uv run main.py --seed 3 --gpu_id 2\n",
    "uv run main.py --seed 4 --gpu_id 3\n",
    "\n",
    "uv run main.py --seed 5 --gpu_id 0\n",
    "uv run main.py --seed 6 --gpu_id 1\n",
    "uv run main.py --seed 7 --gpu_id 2\n",
    "uv run main.py --seed 8 --gpu_id 3"
   ]
  }
 ],
 "metadata": {
  "kernelspec": {
   "display_name": "Python 3 (ipykernel)",
   "language": "python",
   "name": "python3"
  },
  "language_info": {
   "codemirror_mode": {
    "name": "ipython",
    "version": 3
   },
   "file_extension": ".py",
   "mimetype": "text/x-python",
   "name": "python",
   "nbconvert_exporter": "python",
   "pygments_lexer": "ipython3",
   "version": "3.10.12"
  }
 },
 "nbformat": 4,
 "nbformat_minor": 5
}
